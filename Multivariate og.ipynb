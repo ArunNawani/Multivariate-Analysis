{
 "cells": [
  {
   "cell_type": "code",
   "execution_count": 43,
   "metadata": {},
   "outputs": [],
   "source": [
    "from sklearn.datasets import load_boston\n",
    "from numpy import *\n",
    "import matplotlib.pyplot as plt \n",
    "from tqdm import tqdm\n",
    "from sklearn.preprocessing import StandardScaler\n",
    "import numpy as np\n",
    "import pandas as pd\n",
    "from sklearn import preprocessing\n",
    "\n",
    "boston = load_boston()"
   ]
  },
  {
   "cell_type": "code",
   "execution_count": 44,
   "metadata": {},
   "outputs": [
    {
     "name": "stdout",
     "output_type": "stream",
     "text": [
      "Shape of Dataset :  (506, 13)\n",
      "Feature names :  ['CRIM' 'ZN' 'INDUS' 'CHAS' 'NOX' 'RM' 'AGE' 'DIS' 'RAD' 'TAX' 'PTRATIO'\n",
      " 'B' 'LSTAT']\n",
      "Target Values :  [24.  21.6 34.7 33.4 36.2 28.7 22.9 27.1 16.5 18.9 15.  18.9 21.7 20.4\n",
      " 18.2 19.9 23.1 17.5 20.2 18.2]\n"
     ]
    }
   ],
   "source": [
    "print(\"Shape of Dataset : \", boston.data.shape)\n",
    "print(\"Feature names : \", boston.feature_names)\n",
    "print(\"Target Values : \", boston.target[:20])"
   ]
  },
  {
   "cell_type": "code",
   "execution_count": 45,
   "metadata": {},
   "outputs": [
    {
     "name": "stdout",
     "output_type": "stream",
     "text": [
      "      CRIM    ZN  INDUS  CHAS    NOX     RM   AGE     DIS  RAD    TAX  \\\n",
      "0  0.00632  18.0   2.31   0.0  0.538  6.575  65.2  4.0900  1.0  296.0   \n",
      "1  0.02731   0.0   7.07   0.0  0.469  6.421  78.9  4.9671  2.0  242.0   \n",
      "2  0.02729   0.0   7.07   0.0  0.469  7.185  61.1  4.9671  2.0  242.0   \n",
      "3  0.03237   0.0   2.18   0.0  0.458  6.998  45.8  6.0622  3.0  222.0   \n",
      "4  0.06905   0.0   2.18   0.0  0.458  7.147  54.2  6.0622  3.0  222.0   \n",
      "\n",
      "   PTRATIO       B  LSTAT  \n",
      "0     15.3  396.90   4.98  \n",
      "1     17.8  396.90   9.14  \n",
      "2     17.8  392.83   4.03  \n",
      "3     18.7  394.63   2.94  \n",
      "4     18.7  396.90   5.33  \n"
     ]
    }
   ],
   "source": [
    "X = pd.DataFrame(boston.data, columns = boston.feature_names)\n",
    "Y = boston.target   \n",
    "print(X.head())"
   ]
  },
  {
   "cell_type": "code",
   "execution_count": 60,
   "metadata": {},
   "outputs": [
    {
     "name": "stdout",
     "output_type": "stream",
     "text": [
      "(339, 13)\n",
      "(167, 13)\n",
      "(339,)\n",
      "(167,)\n",
      "         CRIM   ZN  INDUS  CHAS    NOX     RM    AGE     DIS   RAD    TAX  \\\n",
      "379  17.86670  0.0   18.1   0.0  0.671  6.223  100.0  1.3861  24.0  666.0   \n",
      "474   8.05579  0.0   18.1   0.0  0.584  5.427   95.4  2.4298  24.0  666.0   \n",
      "\n",
      "     PTRATIO       B  LSTAT  \n",
      "379     20.2  393.74  21.78  \n",
      "474     20.2  352.58  18.14  \n",
      "         CRIM   ZN  INDUS  CHAS    NOX     RM    AGE     DIS   RAD    TAX  \\\n",
      "379  17.86670  0.0   18.1   0.0  0.671  6.223  100.0  1.3861  24.0  666.0   \n",
      "474   8.05579  0.0   18.1   0.0  0.584  5.427   95.4  2.4298  24.0  666.0   \n",
      "\n",
      "     PTRATIO       B  LSTAT  \n",
      "379     20.2  393.74  21.78  \n",
      "474     20.2  352.58  18.14  \n"
     ]
    }
   ],
   "source": [
    "from sklearn.model_selection import train_test_split\n",
    "X_train, X_test, Y_train, Y_test = train_test_split(X, Y, test_size = 0.33,random_state=12)\n",
    "print(X_train.shape)\n",
    "print(X_test.shape)\n",
    "print(Y_train.shape)\n",
    "print(Y_test.shape)\n",
    "print(X_train.head(2))                                              # Standardizing Data \n",
    "print(X_train.head(2))"
   ]
  },
  {
   "cell_type": "code",
   "execution_count": 61,
   "metadata": {},
   "outputs": [],
   "source": [
    "X_train_standardized = (X_train - X_train .mean()) / X_train.std()\n",
    "X_test_standardized  = (X_test - X_train.mean()) /  X_train.std()"
   ]
  },
  {
   "cell_type": "code",
   "execution_count": 62,
   "metadata": {},
   "outputs": [],
   "source": [
    "def training():\n",
    "    X_train_standardized = (X_train - X_train .mean()) / X_train.std()\n",
    "    X_test_standardized  = (X_test - X_train.mean()) /  X_train.std()\n",
    "def error_function(y_actual,y_predicted):\n",
    "    error = 0\n",
    "    for i in range(0,len(y_actual)):\n",
    "        error =  error + pow((y_actual[i] - y_predicted[i]),2)\n",
    "        return error/(2*len(y_actual))\n",
    "\n",
    "def y_predicted(w,x):\n",
    "    y_pred = np.zeros(len(x))\n",
    "    for i in range(0,len(x)):\n",
    "        for j in range(0,len(w)):\n",
    "            y_pred[i] = y_pred[i]+(w[j]*x[i][j] + w[-1])\n",
    "    return y_pred\n",
    "\n",
    "def gradient_descent(y_actual,y_pred,x):\n",
    "    grad = np.zeros(x.shape[1])\n",
    "    for i in range(x.shape[1]):\n",
    "        for j in range(0,len(y_actual)):\n",
    "            grad[i] = - (y_actual[j] - y_pred[j])*x[j][i] + grad[i]\n",
    "    return grad/len(y_actual)\n",
    "\n",
    "\n",
    "def weights(x_train,y_train,num_iterations,learning_rate):\n",
    "    no_of_rows = x_train.shape[0]\n",
    "    no_of_columns = x_train.shape[1]\n",
    "    new_x_train = np.ones((no_of_rows,no_of_columns+1))\n",
    "    new_x_train[:,0:no_of_columns] = x_train\n",
    "    w = np.zeros(no_of_columns)\n",
    "    w =np.append(w,1)\n",
    "    for i in range(0,num_iterations):\n",
    "        y_pred = y_predicted(w,new_x_train)\n",
    "        error = error_function(y_train,y_pred)\n",
    "        MSE_points.append(error)\n",
    "        grad = gradient_descent(y_train,y_pred,new_x_train)\n",
    "        w = w - learning_rate*grad\n",
    "        learning_rate = learning_rate/1.005   \n",
    "        # Learning rate Decay \n",
    "    print(\"mean square error: \",error)\n",
    "    epox=[]\n",
    "    for i in range(300):\n",
    "        epox.append(i)\n",
    "    plt.scatter(epox,MSE_points)\n",
    "    plt.xlabel(\"Prices: $Y_i$\")\n",
    "    plt.ylabel(\"Predicted prices: $\\hat{Y}_i$\")\n",
    "    plt.title(\"Prices vs Predicted prices: $Y_i$ vs $\\hat{Y}_i$\")\n",
    "    plt.show()\n",
    "    return w\n",
    "\n",
    "def regression_test(x_test,w):\n",
    "    row = x_test.shape[0]\n",
    "    column = x_test.shape[1]\n",
    "    new_x_test = np.ones((row,column+1))\n",
    "    new_x_test[:,0:column] = x_test\n",
    "    y_pred = y_predicted(w,new_x_test)\n",
    "    return(y_pred)"
   ]
  },
  {
   "cell_type": "code",
   "execution_count": 63,
   "metadata": {},
   "outputs": [
    {
     "name": "stdout",
     "output_type": "stream",
     "text": [
      "mean square error:  0.04408775019781009\n"
     ]
    },
    {
     "data": {
      "image/png": "[encoded data removed]",
      "text/plain": [
       "<Figure size 432x288 with 1 Axes>"
      ]
     },
     "metadata": {
      "needs_background": "light"
     },
     "output_type": "display_data"
    },
    {
     "data": {
      "text/plain": [
       "0.042904243736513234"
      ]
     },
     "execution_count": 63,
     "metadata": {},
     "output_type": "execute_result"
    }
   ],
   "source": [
    "MSE_points = []\n",
    "num_iterations = 300\n",
    "learning_rate = 0.005\n",
    "w = weights(X_train_standardized,Y_train,num_iterations,learning_rate)\n",
    "Y_pred = regression_test(X_test_standardized,w)\n",
    "error_function(Y_test,Y_pred)"
   ]
  },
  {
   "cell_type": "code",
   "execution_count": 64,
   "metadata": {},
   "outputs": [
    {
     "data": {
      "text/html": [
       "<div>\n",
       "<style scoped>\n",
       "    .dataframe tbody tr th:only-of-type {\n",
       "        vertical-align: middle;\n",
       "    }\n",
       "\n",
       "    .dataframe tbody tr th {\n",
       "        vertical-align: top;\n",
       "    }\n",
       "\n",
       "    .dataframe thead th {\n",
       "        text-align: right;\n",
       "    }\n",
       "</style>\n",
       "<table border=\"1\" class=\"dataframe\">\n",
       "  <thead>\n",
       "    <tr style=\"text-align: right;\">\n",
       "      <th></th>\n",
       "      <th>Actual Value</th>\n",
       "      <th>Predicted Values</th>\n",
       "    </tr>\n",
       "  </thead>\n",
       "  <tbody>\n",
       "    <tr>\n",
       "      <td>0</td>\n",
       "      <td>20.7</td>\n",
       "      <td>24.485501</td>\n",
       "    </tr>\n",
       "    <tr>\n",
       "      <td>1</td>\n",
       "      <td>12.7</td>\n",
       "      <td>16.353102</td>\n",
       "    </tr>\n",
       "    <tr>\n",
       "      <td>2</td>\n",
       "      <td>8.5</td>\n",
       "      <td>9.688284</td>\n",
       "    </tr>\n",
       "    <tr>\n",
       "      <td>3</td>\n",
       "      <td>25.1</td>\n",
       "      <td>28.889790</td>\n",
       "    </tr>\n",
       "    <tr>\n",
       "      <td>4</td>\n",
       "      <td>28.2</td>\n",
       "      <td>28.325383</td>\n",
       "    </tr>\n",
       "    <tr>\n",
       "      <td>5</td>\n",
       "      <td>22.5</td>\n",
       "      <td>23.267241</td>\n",
       "    </tr>\n",
       "    <tr>\n",
       "      <td>6</td>\n",
       "      <td>18.2</td>\n",
       "      <td>21.584482</td>\n",
       "    </tr>\n",
       "    <tr>\n",
       "      <td>7</td>\n",
       "      <td>43.5</td>\n",
       "      <td>33.797580</td>\n",
       "    </tr>\n",
       "    <tr>\n",
       "      <td>8</td>\n",
       "      <td>36.1</td>\n",
       "      <td>29.874727</td>\n",
       "    </tr>\n",
       "    <tr>\n",
       "      <td>9</td>\n",
       "      <td>23.8</td>\n",
       "      <td>24.968476</td>\n",
       "    </tr>\n",
       "  </tbody>\n",
       "</table>\n",
       "</div>"
      ],
      "text/plain": [
       "   Actual Value  Predicted Values\n",
       "0          20.7         24.485501\n",
       "1          12.7         16.353102\n",
       "2           8.5          9.688284\n",
       "3          25.1         28.889790\n",
       "4          28.2         28.325383\n",
       "5          22.5         23.267241\n",
       "6          18.2         21.584482\n",
       "7          43.5         33.797580\n",
       "8          36.1         29.874727\n",
       "9          23.8         24.968476"
      ]
     },
     "execution_count": 64,
     "metadata": {},
     "output_type": "execute_result"
    }
   ],
   "source": [
    "pred_df = pd.DataFrame(\n",
    "    {\n",
    "        'Actual Value' : Y_test, \n",
    "     'Predicted Values' : Y_pred,\n",
    "    }\n",
    ")\n",
    "pred_df.head(10)"
   ]
  },
  {
   "cell_type": "code",
   "execution_count": 65,
   "metadata": {},
   "outputs": [
    {
     "data": {
      "image/png": "[encoded data removed]",
      "text/plain": [
       "<Figure size 432x288 with 1 Axes>"
      ]
     },
     "metadata": {
      "needs_background": "light"
     },
     "output_type": "display_data"
    }
   ],
   "source": [
    "plt.scatter(Y_test, Y_pred)\n",
    "plt.xlabel(\"Prices: $Y_i$\")\n",
    "plt.ylabel(\"Predicted prices: $\\hat{Y}_i$\")\n",
    "plt.title(\"Prices vs Predicted prices: $Y_i$ vs $\\hat{Y}_i$\")\n",
    "plt.show()"
   ]
  },
  {
   "cell_type": "code",
   "execution_count": 66,
   "metadata": {},
   "outputs": [
    {
     "name": "stdout",
     "output_type": "stream",
     "text": [
      "0.6540481835988734\n"
     ]
    }
   ],
   "source": [
    "from sklearn.metrics import r2_score\n",
    "r2 = r2_score(Y_test,Y_pred)\n",
    "n=506\n",
    "k=13\n",
    "adj_r2_score = 1 - ((1-r2)*(n-1)/(n-k-1))\n",
    "print(adj_r2_score)"
   ]
  },
  {
   "cell_type": "code",
   "execution_count": null,
   "metadata": {},
   "outputs": [],
   "source": []
  },
  {
   "cell_type": "code",
   "execution_count": null,
   "metadata": {},
   "outputs": [],
   "source": []
  }
 ],
 "metadata": {
  "kernelspec": {
   "display_name": "Python 3",
   "language": "python",
   "name": "python3"
  },
  "language_info": {
   "codemirror_mode": {
    "name": "ipython",
    "version": 3
   },
   "file_extension": ".py",
   "mimetype": "text/x-python",
   "name": "python",
   "nbconvert_exporter": "python",
   "pygments_lexer": "ipython3",
   "version": "3.7.4"
  }
 },
 "nbformat": 4,
 "nbformat_minor": 2
}
